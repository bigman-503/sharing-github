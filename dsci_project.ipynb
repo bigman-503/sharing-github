{
 "cells": [
  {
   "cell_type": "code",
   "execution_count": null,
   "id": "2bd0bca7-9462-4817-897d-d69f9b6cdd71",
   "metadata": {},
   "outputs": [],
   "source": [
    "library(tidyverse)\n",
    "library(repr)\n",
    "library(tidymodels)\n",
    "library(datasets)\n",
    "options(repr.matrix.max.rows = 6)\n",
    "source('tests.R')\n",
    "source('cleanup.R')"
   ]
  },
  {
   "cell_type": "code",
   "execution_count": null,
   "id": "4a0d7fe5-0c60-43a0-8024-fefe6e600d86",
   "metadata": {},
   "outputs": [],
   "source": [
    "read_csv <- ()"
   ]
  },
  {
   "cell_type": "code",
   "execution_count": null,
   "id": "8a17407c-0549-4d41-89d7-c9d20a424f01",
   "metadata": {},
   "outputs": [],
   "source": []
  },
  {
   "cell_type": "code",
   "execution_count": null,
   "id": "3b8130db-6ffd-49da-a9d2-4ba2d850d778",
   "metadata": {},
   "outputs": [],
   "source": []
  },
  {
   "cell_type": "code",
   "execution_count": null,
   "id": "16aa9d7d-4a3e-404a-823a-a5443074ca7f",
   "metadata": {},
   "outputs": [],
   "source": []
  },
  {
   "cell_type": "code",
   "execution_count": null,
   "id": "f71b8b99-3da5-48cd-b005-2bd98f899b23",
   "metadata": {},
   "outputs": [],
   "source": []
  }
 ],
 "metadata": {
  "kernelspec": {
   "display_name": "R",
   "language": "R",
   "name": "ir"
  },
  "language_info": {
   "codemirror_mode": "r",
   "file_extension": ".r",
   "mimetype": "text/x-r-source",
   "name": "R",
   "pygments_lexer": "r",
   "version": "4.2.2"
  },
  "toc-autonumbering": true
 },
 "nbformat": 4,
 "nbformat_minor": 5
}
