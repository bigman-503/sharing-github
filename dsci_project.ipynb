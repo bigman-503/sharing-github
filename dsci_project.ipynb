{
 "cells": [
  {
   "cell_type": "markdown",
   "id": "1af0039b-1573-4601-9635-2430d9b3a5c4",
   "metadata": {},
   "source": [
    "<font color = \"red\"> The NBA (National Basketball Association) is a professional basketball league in North America that features 30 teams. Each team consists of players who compete against each other in regular season games, with the goal of making it to the playoffs and eventually winning the NBA championship. The NBA All-Star Game is an annual exhibition game that features the best players from each conference. The players are selected based on a combination of fan, player, and media voting. Being selected to the All-Star team is a significant accomplishment for NBA players and is often seen as a sign of their individual success and impact on the league.\n",
    "The NBA tracks various performance statistics for each player, including points per game, rebounds per game, assists per game, field goal percentage, and many others. These statistics are used to evaluate a player's performance and value to their team. In recent years, there has been an increasing interest in using machine learning and data analysis techniques to predict various outcomes in sports, including player performance, team success, and player awards such as All-Star selections. The NBA 2021-2022 per-game statistics dataset provides a rich source of data that can be used to build predictive models for various outcomes, including predicting whether a player will make it to the All-Star team in the 2023 season. </font>"
   ]
  },
  {
   "cell_type": "code",
   "execution_count": 13,
   "id": "66b2a31e-cd4b-448c-9e5d-23d7358eef1f",
   "metadata": {},
   "outputs": [],
   "source": [
    "library(tidyverse)\n",
    "library(repr)\n",
    "# library(tidymodels)\n",
    "library(datasets)\n",
    "library(rvest)\n",
    "options(repr.matrix.max.rows = 6)\n",
    "# source('tests.R')\n",
    "# source('cleanup.R')"
   ]
  },
  {
   "cell_type": "code",
   "execution_count": 14,
   "id": "4a0d7fe5-0c60-43a0-8024-fefe6e600d86",
   "metadata": {},
   "outputs": [
    {
     "data": {
      "text/html": [
       "<ol>\n",
       "\t<li><table class=\"dataframe\">\n",
       "<caption>A tibble: 658 × 30</caption>\n",
       "<thead>\n",
       "\t<tr><th scope=col>Rk</th><th scope=col>Player</th><th scope=col>Pos</th><th scope=col>Age</th><th scope=col>Tm</th><th scope=col>G</th><th scope=col>GS</th><th scope=col>MP</th><th scope=col>FG</th><th scope=col>FGA</th><th scope=col>⋯</th><th scope=col>FT%</th><th scope=col>ORB</th><th scope=col>DRB</th><th scope=col>TRB</th><th scope=col>AST</th><th scope=col>STL</th><th scope=col>BLK</th><th scope=col>TOV</th><th scope=col>PF</th><th scope=col>PTS</th></tr>\n",
       "\t<tr><th scope=col>&lt;chr&gt;</th><th scope=col>&lt;chr&gt;</th><th scope=col>&lt;chr&gt;</th><th scope=col>&lt;chr&gt;</th><th scope=col>&lt;chr&gt;</th><th scope=col>&lt;chr&gt;</th><th scope=col>&lt;chr&gt;</th><th scope=col>&lt;chr&gt;</th><th scope=col>&lt;chr&gt;</th><th scope=col>&lt;chr&gt;</th><th scope=col>⋯</th><th scope=col>&lt;chr&gt;</th><th scope=col>&lt;chr&gt;</th><th scope=col>&lt;chr&gt;</th><th scope=col>&lt;chr&gt;</th><th scope=col>&lt;chr&gt;</th><th scope=col>&lt;chr&gt;</th><th scope=col>&lt;chr&gt;</th><th scope=col>&lt;chr&gt;</th><th scope=col>&lt;chr&gt;</th><th scope=col>&lt;chr&gt;</th></tr>\n",
       "</thead>\n",
       "<tbody>\n",
       "\t<tr><td>1</td><td>Precious Achiuwa</td><td>C</td><td>23</td><td>TOR</td><td>40</td><td>11</td><td>22.7</td><td>3.8</td><td>7.9 </td><td>⋯</td><td>.689</td><td>2.0</td><td>4.4</td><td>6.4 </td><td>1.0</td><td>0.6</td><td>0.7</td><td>1.2</td><td>2.1</td><td>9.9 </td></tr>\n",
       "\t<tr><td>2</td><td>Steven Adams    </td><td>C</td><td>29</td><td>MEM</td><td>42</td><td>42</td><td>27.0</td><td>3.7</td><td>6.3 </td><td>⋯</td><td>.364</td><td>5.1</td><td>6.5</td><td>11.5</td><td>2.3</td><td>0.9</td><td>1.1</td><td>1.9</td><td>2.3</td><td>8.6 </td></tr>\n",
       "\t<tr><td>3</td><td>Bam Adebayo     </td><td>C</td><td>25</td><td>MIA</td><td>59</td><td>59</td><td>35.0</td><td>8.4</td><td>15.6</td><td>⋯</td><td>.805</td><td>2.6</td><td>7.1</td><td>9.7 </td><td>3.2</td><td>1.2</td><td>0.8</td><td>2.5</td><td>2.8</td><td>21.2</td></tr>\n",
       "\t<tr><td>⋮</td><td>⋮</td><td>⋮</td><td>⋮</td><td>⋮</td><td>⋮</td><td>⋮</td><td>⋮</td><td>⋮</td><td>⋮</td><td>⋱</td><td>⋮</td><td>⋮</td><td>⋮</td><td>⋮</td><td>⋮</td><td>⋮</td><td>⋮</td><td>⋮</td><td>⋮</td><td>⋮</td></tr>\n",
       "\t<tr><td>511</td><td>Trae Young </td><td>PG</td><td>24</td><td>ATL</td><td>56</td><td>56</td><td>35.2</td><td>8.5</td><td>19.8</td><td>⋯</td><td>.891</td><td>0.8</td><td>2.3</td><td>3.0 </td><td>10.1</td><td>1.1</td><td>0.2</td><td>4.1</td><td>1.5</td><td>27.0</td></tr>\n",
       "\t<tr><td>512</td><td>Cody Zeller</td><td>C </td><td>30</td><td>MIA</td><td>5 </td><td>0 </td><td>14.4</td><td>1.8</td><td>2.8 </td><td>⋯</td><td>.692</td><td>1.4</td><td>1.2</td><td>2.6 </td><td>0.8 </td><td>0.2</td><td>0.6</td><td>0.8</td><td>2.4</td><td>5.4 </td></tr>\n",
       "\t<tr><td>513</td><td>Ivica Zubac</td><td>C </td><td>25</td><td>LAC</td><td>60</td><td>60</td><td>29.4</td><td>4.0</td><td>6.5 </td><td>⋯</td><td>.703</td><td>3.3</td><td>6.8</td><td>10.1</td><td>1.1 </td><td>0.4</td><td>1.3</td><td>1.7</td><td>3.0</td><td>10.2</td></tr>\n",
       "</tbody>\n",
       "</table>\n",
       "</li>\n",
       "</ol>\n"
      ],
      "text/latex": [
       "\\begin{enumerate}\n",
       "\\item A tibble: 658 × 30\n",
       "\\begin{tabular}{lllllllllllllllllllll}\n",
       " Rk & Player & Pos & Age & Tm & G & GS & MP & FG & FGA & ⋯ & FT\\% & ORB & DRB & TRB & AST & STL & BLK & TOV & PF & PTS\\\\\n",
       " <chr> & <chr> & <chr> & <chr> & <chr> & <chr> & <chr> & <chr> & <chr> & <chr> & ⋯ & <chr> & <chr> & <chr> & <chr> & <chr> & <chr> & <chr> & <chr> & <chr> & <chr>\\\\\n",
       "\\hline\n",
       "\t 1 & Precious Achiuwa & C & 23 & TOR & 40 & 11 & 22.7 & 3.8 & 7.9  & ⋯ & .689 & 2.0 & 4.4 & 6.4  & 1.0 & 0.6 & 0.7 & 1.2 & 2.1 & 9.9 \\\\\n",
       "\t 2 & Steven Adams     & C & 29 & MEM & 42 & 42 & 27.0 & 3.7 & 6.3  & ⋯ & .364 & 5.1 & 6.5 & 11.5 & 2.3 & 0.9 & 1.1 & 1.9 & 2.3 & 8.6 \\\\\n",
       "\t 3 & Bam Adebayo      & C & 25 & MIA & 59 & 59 & 35.0 & 8.4 & 15.6 & ⋯ & .805 & 2.6 & 7.1 & 9.7  & 3.2 & 1.2 & 0.8 & 2.5 & 2.8 & 21.2\\\\\n",
       "\t ⋮ & ⋮ & ⋮ & ⋮ & ⋮ & ⋮ & ⋮ & ⋮ & ⋮ & ⋮ & ⋱ & ⋮ & ⋮ & ⋮ & ⋮ & ⋮ & ⋮ & ⋮ & ⋮ & ⋮ & ⋮\\\\\n",
       "\t 511 & Trae Young  & PG & 24 & ATL & 56 & 56 & 35.2 & 8.5 & 19.8 & ⋯ & .891 & 0.8 & 2.3 & 3.0  & 10.1 & 1.1 & 0.2 & 4.1 & 1.5 & 27.0\\\\\n",
       "\t 512 & Cody Zeller & C  & 30 & MIA & 5  & 0  & 14.4 & 1.8 & 2.8  & ⋯ & .692 & 1.4 & 1.2 & 2.6  & 0.8  & 0.2 & 0.6 & 0.8 & 2.4 & 5.4 \\\\\n",
       "\t 513 & Ivica Zubac & C  & 25 & LAC & 60 & 60 & 29.4 & 4.0 & 6.5  & ⋯ & .703 & 3.3 & 6.8 & 10.1 & 1.1  & 0.4 & 1.3 & 1.7 & 3.0 & 10.2\\\\\n",
       "\\end{tabular}\n",
       "\n",
       "\\end{enumerate}\n"
      ],
      "text/markdown": [
       "1. \n",
       "A tibble: 658 × 30\n",
       "\n",
       "| Rk &lt;chr&gt; | Player &lt;chr&gt; | Pos &lt;chr&gt; | Age &lt;chr&gt; | Tm &lt;chr&gt; | G &lt;chr&gt; | GS &lt;chr&gt; | MP &lt;chr&gt; | FG &lt;chr&gt; | FGA &lt;chr&gt; | ⋯ ⋯ | FT% &lt;chr&gt; | ORB &lt;chr&gt; | DRB &lt;chr&gt; | TRB &lt;chr&gt; | AST &lt;chr&gt; | STL &lt;chr&gt; | BLK &lt;chr&gt; | TOV &lt;chr&gt; | PF &lt;chr&gt; | PTS &lt;chr&gt; |\n",
       "|---|---|---|---|---|---|---|---|---|---|---|---|---|---|---|---|---|---|---|---|---|\n",
       "| 1 | Precious Achiuwa | C | 23 | TOR | 40 | 11 | 22.7 | 3.8 | 7.9  | ⋯ | .689 | 2.0 | 4.4 | 6.4  | 1.0 | 0.6 | 0.7 | 1.2 | 2.1 | 9.9  |\n",
       "| 2 | Steven Adams     | C | 29 | MEM | 42 | 42 | 27.0 | 3.7 | 6.3  | ⋯ | .364 | 5.1 | 6.5 | 11.5 | 2.3 | 0.9 | 1.1 | 1.9 | 2.3 | 8.6  |\n",
       "| 3 | Bam Adebayo      | C | 25 | MIA | 59 | 59 | 35.0 | 8.4 | 15.6 | ⋯ | .805 | 2.6 | 7.1 | 9.7  | 3.2 | 1.2 | 0.8 | 2.5 | 2.8 | 21.2 |\n",
       "| ⋮ | ⋮ | ⋮ | ⋮ | ⋮ | ⋮ | ⋮ | ⋮ | ⋮ | ⋮ | ⋱ | ⋮ | ⋮ | ⋮ | ⋮ | ⋮ | ⋮ | ⋮ | ⋮ | ⋮ | ⋮ |\n",
       "| 511 | Trae Young  | PG | 24 | ATL | 56 | 56 | 35.2 | 8.5 | 19.8 | ⋯ | .891 | 0.8 | 2.3 | 3.0  | 10.1 | 1.1 | 0.2 | 4.1 | 1.5 | 27.0 |\n",
       "| 512 | Cody Zeller | C  | 30 | MIA | 5  | 0  | 14.4 | 1.8 | 2.8  | ⋯ | .692 | 1.4 | 1.2 | 2.6  | 0.8  | 0.2 | 0.6 | 0.8 | 2.4 | 5.4  |\n",
       "| 513 | Ivica Zubac | C  | 25 | LAC | 60 | 60 | 29.4 | 4.0 | 6.5  | ⋯ | .703 | 3.3 | 6.8 | 10.1 | 1.1  | 0.4 | 1.3 | 1.7 | 3.0 | 10.2 |\n",
       "\n",
       "\n",
       "\n",
       "\n"
      ],
      "text/plain": [
       "[[1]]\n",
       "\u001b[90m# A tibble: 658 × 30\u001b[39m\n",
       "   Rk    Player      Pos   Age   Tm    G     GS    MP    FG    FGA   `FG%` `3P` \n",
       "   \u001b[3m\u001b[90m<chr>\u001b[39m\u001b[23m \u001b[3m\u001b[90m<chr>\u001b[39m\u001b[23m       \u001b[3m\u001b[90m<chr>\u001b[39m\u001b[23m \u001b[3m\u001b[90m<chr>\u001b[39m\u001b[23m \u001b[3m\u001b[90m<chr>\u001b[39m\u001b[23m \u001b[3m\u001b[90m<chr>\u001b[39m\u001b[23m \u001b[3m\u001b[90m<chr>\u001b[39m\u001b[23m \u001b[3m\u001b[90m<chr>\u001b[39m\u001b[23m \u001b[3m\u001b[90m<chr>\u001b[39m\u001b[23m \u001b[3m\u001b[90m<chr>\u001b[39m\u001b[23m \u001b[3m\u001b[90m<chr>\u001b[39m\u001b[23m \u001b[3m\u001b[90m<chr>\u001b[39m\u001b[23m\n",
       "\u001b[90m 1\u001b[39m 1     Precious A… C     23    TOR   40    11    22.7  3.8   7.9   .479  0.5  \n",
       "\u001b[90m 2\u001b[39m 2     Steven Ada… C     29    MEM   42    42    27.0  3.7   6.3   .597  0.0  \n",
       "\u001b[90m 3\u001b[39m 3     Bam Adebayo C     25    MIA   59    59    35.0  8.4   15.6  .536  0.0  \n",
       "\u001b[90m 4\u001b[39m 4     Ochai Agba… SG    22    UTA   41    4     16.0  1.9   4.1   .464  1.0  \n",
       "\u001b[90m 5\u001b[39m 5     Santi Alda… PF    22    MEM   59    18    21.9  3.3   6.9   .472  1.3  \n",
       "\u001b[90m 6\u001b[39m 6     Nickeil Al… SG    24    TOT   42    3     14.7  2.3   4.9   .478  1.0  \n",
       "\u001b[90m 7\u001b[39m 6     Nickeil Al… SG    24    UTA   36    3     14.7  2.3   4.7   .488  1.0  \n",
       "\u001b[90m 8\u001b[39m 6     Nickeil Al… SG    24    MIN   6     0     14.7  2.5   5.8   .429  1.3  \n",
       "\u001b[90m 9\u001b[39m 7     Grayson Al… SG    27    MIL   58    56    27.6  3.4   7.7   .442  2.0  \n",
       "\u001b[90m10\u001b[39m 8     Jarrett Al… C     24    CLE   58    58    33.3  6.1   9.4   .652  0.0  \n",
       "\u001b[90m# … with 648 more rows, and 18 more variables: `3PA` <chr>, `3P%` <chr>,\u001b[39m\n",
       "\u001b[90m#   `2P` <chr>, `2PA` <chr>, `2P%` <chr>, `eFG%` <chr>, FT <chr>, FTA <chr>,\u001b[39m\n",
       "\u001b[90m#   `FT%` <chr>, ORB <chr>, DRB <chr>, TRB <chr>, AST <chr>, STL <chr>,\u001b[39m\n",
       "\u001b[90m#   BLK <chr>, TOV <chr>, PF <chr>, PTS <chr>\u001b[39m\n"
      ]
     },
     "metadata": {},
     "output_type": "display_data"
    }
   ],
   "source": [
    "# URL of the team statistics page for the 2021-2022 NBA season\n",
    "url <- \"https://www.basketball-reference.com/leagues/NBA_2023_per_game.html\"\n",
    "\n",
    "# Load the HTML content from the URL\n",
    "page <- read_html(url)\n",
    "\n",
    "table <- html_table(html_nodes(page, \"table\")[1])\n",
    "table"
   ]
  },
  {
   "cell_type": "code",
   "execution_count": null,
   "id": "8a17407c-0549-4d41-89d7-c9d20a424f01",
   "metadata": {},
   "outputs": [],
   "source": []
  },
  {
   "cell_type": "markdown",
   "id": "7041070b-6f52-4ca5-8481-99c4037b89bc",
   "metadata": {},
   "source": [
    "<font color = \"blue\"> Our research will be predicting whether an NBA player will make it to the All-Star Team based on their performance statisitics in the 2023 season. Based Based on 2021-2022 years dataset, mutate a new column all star(binary, yes or no), select three variables, make the predictive model, split to train-test dataset, verify accuracy, retest on 2023 data\n",
    "</font>"
   ]
  },
  {
   "cell_type": "markdown",
   "id": "9b15e858-f931-454f-8040-388c26fa8081",
   "metadata": {},
   "source": [
    "\n"
   ]
  },
  {
   "cell_type": "code",
   "execution_count": null,
   "id": "f71b8b99-3da5-48cd-b005-2bd98f899b23",
   "metadata": {},
   "outputs": [],
   "source": []
  }
 ],
 "metadata": {
  "kernelspec": {
   "display_name": "R",
   "language": "R",
   "name": "ir"
  },
  "language_info": {
   "codemirror_mode": "r",
   "file_extension": ".r",
   "mimetype": "text/x-r-source",
   "name": "R",
   "pygments_lexer": "r",
   "version": "4.2.2"
  },
  "toc-autonumbering": true
 },
 "nbformat": 4,
 "nbformat_minor": 5
}
